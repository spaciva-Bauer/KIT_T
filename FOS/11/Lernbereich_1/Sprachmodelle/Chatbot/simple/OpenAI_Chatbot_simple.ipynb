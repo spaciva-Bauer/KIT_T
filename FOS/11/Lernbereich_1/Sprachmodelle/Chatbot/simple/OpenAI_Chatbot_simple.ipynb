{
 "cells": [
  {
   "cell_type": "code",
   "execution_count": null,
   "id": "c9d02657",
   "metadata": {},
   "outputs": [],
   "source": [
    "# wird nur bei der ersten Ausführung benötigt"
   ]
  },
  {
   "cell_type": "raw",
   "id": "961d9759",
   "metadata": {},
   "source": [
    "pip install openai "
   ]
  },
  {
   "cell_type": "markdown",
   "id": "282ca636",
   "metadata": {},
   "source": [
    "# Einfacher online Chat-Bot "
   ]
  },
  {
   "cell_type": "code",
   "execution_count": null,
   "id": "a56ffc6c-6330-4eae-a36a-61fc18fb722d",
   "metadata": {},
   "outputs": [],
   "source": [
    "from openai import OpenAI\n",
    "\n",
    "OPENAI_API_KEY=\"\" # gueltigen API-Key einfuegen\n",
    "\n",
    "mein_client = OpenAI(api_key=OPENAI_API_KEY)"
   ]
  },
  {
   "cell_type": "code",
   "execution_count": null,
   "id": "4c9c36b7-08e4-4f17-b079-062dd0c49e25",
   "metadata": {},
   "outputs": [],
   "source": [
    "chatverlauf = [] # Chatverlauf löschen"
   ]
  },
  {
   "cell_type": "code",
   "execution_count": null,
   "id": "a0823fac-57f9-475e-910f-98df5ed63547",
   "metadata": {},
   "outputs": [],
   "source": [
    "# bei Eingabe des Wortes exit wird der Chat-Verlauf unterbrochen.\n",
    "neue_usereingabe = \"\"\n",
    "antwort_neu = \"\"   \n",
    "\n",
    "while neue_usereingabe != \"exit\":\n",
    "    neue_usereingabe = input()\n",
    "    if neue_usereingabe!= \"exit\":\n",
    "        neue_Nachricht = chatverlauf.append({\"role\": \"user\", \"content\": neue_usereingabe}) \n",
    "        antwort_neu = mein_client.responses.create(\n",
    "        model=\"gpt-4.1-mini\",\n",
    "        input=chatverlauf)\n",
    "        print(antwort_neu.output[0].content[0].text)\n",
    "        chatverlauf.append({\"role\": \"assistant\", \"content\": antwort_neu.output[0].content[0].text})                             "
   ]
  },
  {
   "cell_type": "code",
   "execution_count": null,
   "id": "f8101250",
   "metadata": {},
   "outputs": [],
   "source": [
    "chatverlauf # Chatverlauf ausgeben"
   ]
  },
  {
   "cell_type": "markdown",
   "id": "71f59536",
   "metadata": {},
   "source": [
    "# Aufgaben"
   ]
  },
  {
   "cell_type": "markdown",
   "id": "54f567c7",
   "metadata": {},
   "source": [
    "1. Testen Sie das Programm auf Funktionalität. Einzelne Anfragen oder Anfragen als Chat-Verlauf sind möglich.\n",
    "2. Entnehmen Sie der Modellkarte unter folgendem Link wesentliche Eigenschaften wie Sprache, Einsatzzweck usw. des verwendeten Modells: https://platform.openai.com/docs/models/gpt-4.1-mini\n",
    "3. Weitere Modelle zur Verwendung als Chat-Bots entnehmen Sie der folgenden Webseite. Bitte beachten Sie die Preisangaben!! <br> https://platform.openai.com/docs/models"
   ]
  }
 ],
 "metadata": {
  "kernelspec": {
   "display_name": "Python 3 (ipykernel)",
   "language": "python",
   "name": "python3"
  },
  "language_info": {
   "codemirror_mode": {
    "name": "ipython",
    "version": 3
   },
   "file_extension": ".py",
   "mimetype": "text/x-python",
   "name": "python",
   "nbconvert_exporter": "python",
   "pygments_lexer": "ipython3",
   "version": "3.13.7"
  }
 },
 "nbformat": 4,
 "nbformat_minor": 5
}
