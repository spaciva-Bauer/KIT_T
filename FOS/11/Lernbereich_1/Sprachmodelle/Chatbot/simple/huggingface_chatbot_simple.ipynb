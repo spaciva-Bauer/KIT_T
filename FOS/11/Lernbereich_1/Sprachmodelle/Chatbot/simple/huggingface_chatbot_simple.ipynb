{
 "cells": [
  {
   "cell_type": "raw",
   "id": "fe8ff6be-b3c3-4c5e-905a-46dfdad9e045",
   "metadata": {},
   "source": [
    "pip install torch --index-url https://download.pytorch.org/whl/cpu"
   ]
  },
  {
   "cell_type": "raw",
   "id": "ca0b4747",
   "metadata": {},
   "source": [
    "pip install transformers"
   ]
  },
  {
   "cell_type": "markdown",
   "id": "b6bb3073-4594-4484-9380-28c48ed19922",
   "metadata": {},
   "source": [
    "# Einfacher lokaler Chat-Bot "
   ]
  },
  {
   "cell_type": "code",
   "execution_count": null,
   "id": "411ad7e2",
   "metadata": {},
   "outputs": [],
   "source": [
    "from transformers import pipeline # Import der Funktion pipeline des Moduls transformers"
   ]
  },
  {
   "cell_type": "code",
   "execution_count": null,
   "id": "e3630d6b-b77f-42c1-b06b-ce2779b1d7da",
   "metadata": {},
   "outputs": [],
   "source": [
    "pipe = pipeline(\"text-generation\", model=\"HuggingFaceTB/SmolLM2-135M-Instruct\") #Auswahl des Modells mit Zweckangabe"
   ]
  },
  {
   "cell_type": "code",
   "execution_count": null,
   "id": "73d606b4-d9eb-433a-ab36-b4f1237a2d2f",
   "metadata": {},
   "outputs": [],
   "source": [
    "chatverlauf = [] # Chatverlauf löschen"
   ]
  },
  {
   "cell_type": "code",
   "execution_count": null,
   "id": "3ea91e20-6c7d-454d-b454-e87421ebc52d",
   "metadata": {},
   "outputs": [],
   "source": [
    "# bei Eingabe des Wortes exit wird der Chat-Verlauf unterbrochen.\n",
    "neue_usereingabe = \"\"\n",
    "antwort_neu = \"\"  \n",
    "\n",
    "while neue_usereingabe != \"exit\":\n",
    "    neue_usereingabe = input()\n",
    "    if neue_usereingabe!= \"exit\":\n",
    "        neue_Nachricht = chatverlauf.append({\"role\": \"user\", \"content\": neue_usereingabe}) \n",
    "        antwort_neu = pipe(chatverlauf)\n",
    "        print(antwort_neu[0]['generated_text'][-1]['content'])\n",
    "        chatverlauf.append({\"role\": \"assistant\", \"content\": antwort_neu[0]['generated_text'][-1]['content']})    "
   ]
  },
  {
   "cell_type": "code",
   "execution_count": null,
   "id": "532dccee-d94e-4464-b197-ad41c5f0d063",
   "metadata": {},
   "outputs": [],
   "source": [
    "chatverlauf # Chatverlauf ausgeben"
   ]
  },
  {
   "cell_type": "markdown",
   "id": "639bca4d-8531-4da3-bf23-8d3a81db232a",
   "metadata": {},
   "source": [
    "## Aufgaben"
   ]
  },
  {
   "cell_type": "markdown",
   "id": "d1ed268e-0a28-41d3-bd06-6a7a8f23376d",
   "metadata": {},
   "source": [
    "1. Testen Sie das Programm auf Funktionalität. Einzelne Anfragen oder Anfragen als Chat-Verlauf sind möglich.\n",
    "2. Entnehmen Sie der Modellkarte unter folgendem Link wesentliche Eigenschaften wie Sprache, Einsatzzweck usw. des verwendeten Modells: https://huggingface.co/LiquidAI/LFM2-350M\n",
    "3. Weitere Modelle zur Verwendung als Chat-Bots entnehmen Sie der folgenden Webseite. Filtern Sie aber vorher nach der Größe!! <br> https://huggingface.co/models?other=conversational&sort=trending"
   ]
  }
 ],
 "metadata": {
  "kernelspec": {
   "display_name": "Python 3 (ipykernel)",
   "language": "python",
   "name": "python3"
  },
  "language_info": {
   "codemirror_mode": {
    "name": "ipython",
    "version": 3
   },
   "file_extension": ".py",
   "mimetype": "text/x-python",
   "name": "python",
   "nbconvert_exporter": "python",
   "pygments_lexer": "ipython3",
   "version": "3.13.7"
  }
 },
 "nbformat": 4,
 "nbformat_minor": 5
}
